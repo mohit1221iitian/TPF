{
  "cells": [
    {
      "cell_type": "markdown",
      "metadata": {
        "id": "bMxeVTj94pXf"
      },
      "source": [
        "# Imports"
      ]
    },
    {
      "cell_type": "code",
      "execution_count": null,
      "metadata": {
        "id": "_sRmMfG-4o10"
      },
      "outputs": [],
      "source": [
        "import pandas as pd\n",
        "import numpy as np"
      ]
    },
    {
      "cell_type": "markdown",
      "metadata": {
        "id": "rsaMQlOCDrZk"
      },
      "source": [
        "# Data"
      ]
    },
    {
      "cell_type": "code",
      "execution_count": null,
      "metadata": {
        "id": "tSW-kgIzDq9U"
      },
      "outputs": [],
      "source": [
        "column_names = ['polarity', 'title', 'text']\n",
        "df_train = pd.read_csv('C:/Users/Mohit/Desktop/tpx/train.csv',names=column_names, header=None)\n",
        "df_test = pd.read_csv('C:/Users/Mohit/Desktop/tpx/test.csv',names=column_names, header=None)"
      ]
    },
    {
      "cell_type": "markdown",
      "metadata": {
        "id": "WiM8KoeoOq2P"
      },
      "source": [
        "# Text Preprocessing"
      ]
    },
    {
      "cell_type": "code",
      "execution_count": null,
      "metadata": {
        "colab": {
          "base_uri": "https://localhost:8080/"
        },
        "id": "lBrp95nZ4NbQ",
        "outputId": "94e5d7c1-db79-46ab-b25b-e35cc84d2dc2"
      },
      "outputs": [
        {
          "name": "stderr",
          "output_type": "stream",
          "text": [
            "[nltk_data] Downloading package stopwords to\n",
            "[nltk_data]     C:\\Users\\Mohit\\AppData\\Roaming\\nltk_data...\n",
            "[nltk_data]   Package stopwords is already up-to-date!\n"
          ]
        },
        {
          "data": {
            "text/plain": [
              "True"
            ]
          },
          "execution_count": 4,
          "metadata": {},
          "output_type": "execute_result"
        }
      ],
      "source": [
        "import nltk\n",
        "nltk.download('stopwords')"
      ]
    },
    {
      "cell_type": "code",
      "execution_count": null,
      "metadata": {
        "id": "Meo5oLA04OuM"
      },
      "outputs": [],
      "source": [
        "from nltk.corpus import stopwords\n",
        "stop_words = set(stopwords.words('english'))\n",
        "def remove_stopwords(text):\n",
        "    if not isinstance(text, str):\n",
        "        return text\n",
        "    return \" \".join([word for word in text.split() if word.lower() not in stop_words])"
      ]
    },
    {
      "cell_type": "code",
      "execution_count": null,
      "metadata": {
        "id": "H9Vq37Ou4Hc3"
      },
      "outputs": [],
      "source": [
        "import string\n",
        "exclude=string.punctuation\n",
        "def remove_punc(text):\n",
        "  if isinstance(text, str):\n",
        "    return text.translate(str.maketrans(\"\",\"\",exclude))\n",
        "  return text"
      ]
    },
    {
      "cell_type": "code",
      "execution_count": null,
      "metadata": {
        "id": "DHemE4Cp4B-z"
      },
      "outputs": [],
      "source": [
        "def preprocess(df):\n",
        "  df['title'] = df['title'].str.lower()\n",
        "  df['text'] = df['text'].str.lower()\n",
        "  df['title']=df['title'].apply(remove_punc)\n",
        "  df['text']=df['text'].apply(remove_punc)\n",
        "  df['title'] = df['title'].apply(remove_stopwords)\n",
        "  df['text'] = df['text'].apply(remove_stopwords)\n",
        "  return df"
      ]
    },
    {
      "cell_type": "code",
      "execution_count": null,
      "metadata": {
        "id": "s50kwcD04Vwy"
      },
      "outputs": [],
      "source": [
        "df_train=preprocess(df_train)\n",
        "df_test=preprocess(df_test)"
      ]
    },
    {
      "cell_type": "markdown",
      "metadata": {
        "id": "5HR7dhgdyNUW"
      },
      "source": [
        "# Tokenization + Vector Representation"
      ]
    },
    {
      "cell_type": "markdown",
      "metadata": {
        "id": "JWgY8R4G0nO9"
      },
      "source": [
        "#### BOW"
      ]
    },
    {
      "cell_type": "code",
      "execution_count": null,
      "metadata": {
        "id": "ugkonV9pvfbF"
      },
      "outputs": [],
      "source": [
        "from sklearn.feature_extraction.text import CountVectorizer\n",
        "from sklearn.model_selection import GridSearchCV\n",
        "from sklearn.pipeline import Pipeline\n",
        "from sklearn.ensemble import RandomForestClassifier\n",
        "from xgboost import XGBClassifier"
      ]
    },
    {
      "cell_type": "code",
      "execution_count": null,
      "metadata": {
        "id": "VspGKMGK1Wui"
      },
      "outputs": [],
      "source": [
        "X_train=df_train['title']+\" \"+df_train['text']\n",
        "y_train=df_train['polarity']\n",
        "X_test=df_test['title']+\" \"+df_test['text']\n",
        "y_test=df_test['polarity']"
      ]
    },
    {
      "cell_type": "code",
      "execution_count": null,
      "metadata": {},
      "outputs": [],
      "source": [
        "X_train = X_train.dropna()\n",
        "y_train = y_train.loc[X_train.index]  # keep labels aligned"
      ]
    },
    {
      "cell_type": "code",
      "execution_count": null,
      "metadata": {
        "id": "bY5sFAgsy8Ae"
      },
      "outputs": [],
      "source": [
        "pipeline1=Pipeline(\n",
        "    [('vect', CountVectorizer()),\n",
        "    ('rf', RandomForestClassifier(oob_score=True))\n",
        "])\n",
        "pipeline2=Pipeline(\n",
        "    [('vect', CountVectorizer()),\n",
        "    ('xgb', XGBClassifier())\n",
        "])\n",
        "param_grid = {\n",
        "    'vect__ngram_range': [(1,1), (1,2), (1,3),(2,2),(3,3),(2,3)],  # unigrams, bigrams, trigrams\n",
        "    'vect__max_features': [1000,2000,5000,7000,10000,15000,20000,25000,30000]   # optional: limit vocab size\n",
        "}\n"
      ]
    },
    {
      "cell_type": "code",
      "execution_count": null,
      "metadata": {},
      "outputs": [],
      "source": [
        "pipeline1.fit(X_train,y_train)"
      ]
    },
    {
      "cell_type": "code",
      "execution_count": null,
      "metadata": {},
      "outputs": [],
      "source": [
        "pipeline2.fit(X_train,y_train)"
      ]
    },
    {
      "cell_type": "code",
      "execution_count": null,
      "metadata": {
        "colab": {
          "base_uri": "https://localhost:8080/"
        },
        "id": "4YmTeKQfGxvU",
        "outputId": "c88fe7f3-1cbe-4d8c-939e-c90b8a997a9a"
      },
      "outputs": [
        {
          "name": "stdout",
          "output_type": "stream",
          "text": [
            "Fitting 5 folds for each of 54 candidates, totalling 270 fits\n"
          ]
        }
      ],
      "source": [
        "grid1 = GridSearchCV(pipeline1, param_grid, cv=5, scoring='accuracy', n_jobs=1, verbose=2)\n",
        "grid1.fit(X_train, y_train)"
      ]
    },
    {
      "cell_type": "code",
      "execution_count": null,
      "metadata": {
        "id": "5OT6AV84G0Li"
      },
      "outputs": [],
      "source": [
        "grid2 = GridSearchCV(pipeline2, param_grid, cv=5, scoring='accuracy', n_jobs=1, verbose=2)\n",
        "grid2.fit(X_train, y_train)"
      ]
    },
    {
      "cell_type": "markdown",
      "metadata": {
        "id": "7cBH38KTG5TS"
      },
      "source": [
        "# Evaluation"
      ]
    },
    {
      "cell_type": "markdown",
      "metadata": {
        "id": "pMnHNC44G_N4"
      },
      "source": [
        "###RandomForest"
      ]
    },
    {
      "cell_type": "code",
      "execution_count": null,
      "metadata": {
        "id": "uW13EdnvG4iY"
      },
      "outputs": [],
      "source": [
        "grid1.best_params_"
      ]
    },
    {
      "cell_type": "code",
      "execution_count": null,
      "metadata": {
        "id": "WkuIEJRyEa53"
      },
      "outputs": [],
      "source": [
        "grid1.best_score_"
      ]
    },
    {
      "cell_type": "code",
      "execution_count": null,
      "metadata": {
        "id": "5QuuPeCyEcqu"
      },
      "outputs": [],
      "source": [
        "model_final1=grid1.best_estimator_"
      ]
    },
    {
      "cell_type": "code",
      "execution_count": null,
      "metadata": {
        "id": "Jjg2pxWLFCrf"
      },
      "outputs": [],
      "source": [
        "y_predict1=pipeline1.predict(X_test)"
      ]
    },
    {
      "cell_type": "code",
      "execution_count": null,
      "metadata": {
        "id": "1hfM1BWMEgDc"
      },
      "outputs": [],
      "source": [
        "from sklearn.metrics import accuracy,confusion_matrix,precision,recall,f1_score,classification_report"
      ]
    },
    {
      "cell_type": "code",
      "execution_count": null,
      "metadata": {
        "id": "1aZt0hXZE3Lj"
      },
      "outputs": [],
      "source": [
        "print(\"Accuracy : \",accuracy(y_test,y_predict1))\n",
        "print(\"Precision : \",precision(y_test,y_predict1))\n",
        "print(\"Recall : \",recall(y_test,y_predict1))\n",
        "print(\"F1_score : \",f1_score(y_test,y_predict1))\n",
        "print(\"Confusion_matrix : \",confusion_matrix(y_test,y_predict1))\n",
        "print(\"Oob Score : \",model_final1.oob_score_)"
      ]
    },
    {
      "cell_type": "code",
      "execution_count": null,
      "metadata": {
        "id": "p5HQeIxbFX83"
      },
      "outputs": [],
      "source": [
        "print(\"Classification Report : \",classification_report(y_test,y_predict1))"
      ]
    },
    {
      "cell_type": "markdown",
      "metadata": {
        "id": "o7OOZxLXHKw2"
      },
      "source": [
        "### XGBoost"
      ]
    },
    {
      "cell_type": "code",
      "execution_count": null,
      "metadata": {
        "id": "ZNglZvpMHNsR"
      },
      "outputs": [],
      "source": [
        "grid2.best_params_"
      ]
    },
    {
      "cell_type": "code",
      "execution_count": null,
      "metadata": {
        "id": "i9-k2yQyHPUE"
      },
      "outputs": [],
      "source": [
        "grid2.best_score_"
      ]
    },
    {
      "cell_type": "code",
      "execution_count": null,
      "metadata": {
        "id": "GfXg96DmHRSk"
      },
      "outputs": [],
      "source": [
        "model_final2=grid2.best_estimator_"
      ]
    },
    {
      "cell_type": "code",
      "execution_count": null,
      "metadata": {
        "id": "0PTCoFGgHTBk"
      },
      "outputs": [],
      "source": [
        "y_predict2=pipeline2.predict(X_test)"
      ]
    },
    {
      "cell_type": "code",
      "execution_count": null,
      "metadata": {
        "id": "4v2M1ZWnHVp8"
      },
      "outputs": [],
      "source": [
        "print(\"Accuracy : \",accuracy(y_test,y_predict2))\n",
        "print(\"Precision : \",precision(y_test,y_predict2))\n",
        "print(\"Recall : \",recall(y_test,y_predict2))\n",
        "print(\"F1_score : \",f1_score(y_test,y_predict2))\n",
        "print(\"Confusion_matrix : \",confusion_matrix(y_test,y_predict2))"
      ]
    },
    {
      "cell_type": "code",
      "execution_count": null,
      "metadata": {
        "id": "nRsRscqWHW-M"
      },
      "outputs": [],
      "source": [
        "print(\"Classification Report : \",classification_report(y_test,y_predict2))"
      ]
    }
  ],
  "metadata": {
    "colab": {
      "provenance": []
    },
    "kernelspec": {
      "display_name": "venv",
      "language": "python",
      "name": "python3"
    },
    "language_info": {
      "codemirror_mode": {
        "name": "ipython",
        "version": 3
      },
      "file_extension": ".py",
      "mimetype": "text/x-python",
      "name": "python",
      "nbconvert_exporter": "python",
      "pygments_lexer": "ipython3",
      "version": "3.11.9"
    }
  },
  "nbformat": 4,
  "nbformat_minor": 0
}
